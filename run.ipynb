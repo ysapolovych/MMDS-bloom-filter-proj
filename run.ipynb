{
 "cells": [
  {
   "cell_type": "code",
   "execution_count": 2,
   "metadata": {},
   "outputs": [],
   "source": [
    "import pandas as pd\n",
    "import json\n",
    "from sseclient import SSEClient as EventSource\n",
    "from bloom_filter import BloomFilter"
   ]
  },
  {
   "cell_type": "code",
   "execution_count": 3,
   "metadata": {},
   "outputs": [
    {
     "name": "stdout",
     "output_type": "stream",
     "text": [
      "\n",
      "\n"
     ]
    }
   ],
   "source": [
    "url = 'https://stream.wikimedia.org/v2/stream/recentchange'\n",
    "wiki = 'enwiki' #Client side filter\n",
    "counter = 0\n",
    "changes = []\n",
    "maxEvents =  10000\n",
    "for event in EventSource(url):\n",
    "    if event.event == 'message':\n",
    "        try:\n",
    "            change = json.loads(event.data)\n",
    "        except ValueError:\n",
    "            continue\n",
    "        if change['wiki'] == wiki:\n",
    "            changes.append(change)\n",
    "            counter += 1\n",
    "            if counter > maxEvents:\n",
    "                break"
   ]
  },
  {
   "cell_type": "code",
   "execution_count": 4,
   "metadata": {},
   "outputs": [
    {
     "data": {
      "text/plain": [
       "(10001, 57)"
      ]
     },
     "execution_count": 4,
     "metadata": {},
     "output_type": "execute_result"
    }
   ],
   "source": [
    "train = pd.json_normalize(changes)\n",
    "train.to_pickle('train.pkl')\n",
    "train.shape"
   ]
  },
  {
   "cell_type": "code",
   "execution_count": 5,
   "metadata": {},
   "outputs": [],
   "source": [
    "train = pd.read_pickle('train.pkl')"
   ]
  },
  {
   "cell_type": "code",
   "execution_count": 6,
   "metadata": {},
   "outputs": [],
   "source": [
    "bots = train.loc[train['bot']==True, 'user'].unique().tolist()"
   ]
  },
  {
   "cell_type": "code",
   "execution_count": 7,
   "metadata": {},
   "outputs": [
    {
     "name": "stdout",
     "output_type": "stream",
     "text": [
      "Initiazied filter of size 138\n"
     ]
    }
   ],
   "source": [
    "bloom_filter = BloomFilter(n_elements=len(bots), fp_prob=0.1)"
   ]
  },
  {
   "cell_type": "code",
   "execution_count": 8,
   "metadata": {},
   "outputs": [],
   "source": [
    "for bot in bots:\n",
    "    bloom_filter.insert(bot)"
   ]
  },
  {
   "cell_type": "code",
   "execution_count": 9,
   "metadata": {},
   "outputs": [],
   "source": [
    "url = 'https://stream.wikimedia.org/v2/stream/recentchange'\n",
    "wiki = 'enwiki' #Client side filter\n",
    "counter = 0\n",
    "changes = []\n",
    "maxEvents =  1000 # print n events and stop\n",
    "for event in EventSource(url):\n",
    "    if event.event == 'message':\n",
    "        try:\n",
    "            change = json.loads(event.data)\n",
    "        except ValueError:\n",
    "            continue\n",
    "        if change['wiki'] == wiki:\n",
    "            counter += 1\n",
    "\n",
    "            bot_bloom = bloom_filter.check(change['user'])\n",
    "            change['bot_bloom'] = bot_bloom\n",
    "            changes.append(change)\n",
    "\n",
    "            if counter > maxEvents:\n",
    "                break"
   ]
  },
  {
   "cell_type": "code",
   "execution_count": 10,
   "metadata": {},
   "outputs": [],
   "source": [
    "test = pd.json_normalize(changes)\n",
    "test.to_pickle('test.pkl')"
   ]
  },
  {
   "cell_type": "code",
   "execution_count": 11,
   "metadata": {},
   "outputs": [
    {
     "name": "stdout",
     "output_type": "stream",
     "text": [
      "True bots: 184\n",
      "Bloom filtered bots: 251\n",
      "True positives: 172\n"
     ]
    }
   ],
   "source": [
    "bot_count = test[(test['bot']==True)].shape[0]\n",
    "bloom_bot_count = test[(test['bot_bloom']==True)].shape[0]\n",
    "tp_count = test[(test['bot']==True) & (test['bot_bloom']==True)].shape[0]\n",
    "print(f'True bots: {bot_count}\\nBloom filtered bots: {bloom_bot_count}\\nTrue positives: {tp_count}')"
   ]
  },
  {
   "cell_type": "code",
   "execution_count": 12,
   "metadata": {},
   "outputs": [
    {
     "name": "stdout",
     "output_type": "stream",
     "text": [
      "Accuracy: 0.9090909090909091\n",
      "FP rate: 0.07892107892107893\n",
      "FN rate: 0.011988011988011988\n"
     ]
    }
   ],
   "source": [
    "accuracy = test[test['bot'] == test['bot_bloom']].shape[0] / test.shape[0]\n",
    "fp_rate = test[(test['bot']==False) & (test['bot_bloom']==True)].shape[0] / test.shape[0]\n",
    "fn_rate = test[(test['bot']==True) & (test['bot_bloom']==False)].shape[0] / test.shape[0] # should be 0\n",
    "fp_rate, fn_rate\n",
    "print(f'Accuracy: {accuracy}\\nFP rate: {fp_rate}\\nFN rate: {fn_rate}')"
   ]
  }
 ],
 "metadata": {
  "interpreter": {
   "hash": "6cde1da0c15c0f64f8d3329fa04abd03db6fd20c244f52ca806d237a8de8b911"
  },
  "kernelspec": {
   "display_name": "Python 3.8.12 64-bit ('mmds': pyenv)",
   "name": "python3"
  },
  "language_info": {
   "codemirror_mode": {
    "name": "ipython",
    "version": 3
   },
   "file_extension": ".py",
   "mimetype": "text/x-python",
   "name": "python",
   "nbconvert_exporter": "python",
   "pygments_lexer": "ipython3",
   "version": "3.8.12"
  },
  "orig_nbformat": 4
 },
 "nbformat": 4,
 "nbformat_minor": 2
}
