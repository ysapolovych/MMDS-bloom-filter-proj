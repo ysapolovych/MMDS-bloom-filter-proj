{
 "cells": [
  {
   "cell_type": "code",
   "execution_count": 1,
   "metadata": {},
   "outputs": [],
   "source": [
    "import pandas as pd\n",
    "import json\n",
    "from sseclient import SSEClient as EventSource\n",
    "from bloom_filter import BloomFilter"
   ]
  },
  {
   "cell_type": "code",
   "execution_count": 2,
   "metadata": {},
   "outputs": [],
   "source": [
    "url = 'https://stream.wikimedia.org/v2/stream/recentchange'\n",
    "wiki = 'enwiki' #Client side filter\n",
    "counter = 0\n",
    "changes = []\n",
    "maxEvents =  5000 # print n events and stop\n",
    "for event in EventSource(url):\n",
    "    if event.event == 'message':\n",
    "        try:\n",
    "            change = json.loads(event.data)\n",
    "        except ValueError:\n",
    "            continue\n",
    "        if change['wiki'] == wiki:\n",
    "            #print(change)\n",
    "            # print('{user} ====== edited  ========{title} ===={wiki}'.format(**change))\n",
    "            changes.append(change)\n",
    "            counter += 1\n",
    "            if counter > maxEvents:\n",
    "                break"
   ]
  },
  {
   "cell_type": "code",
   "execution_count": null,
   "metadata": {},
   "outputs": [],
   "source": [
    "train = pd.json_normalize(changes)\n",
    "train.to_pickle('train.pkl')\n",
    "train.shape"
   ]
  },
  {
   "cell_type": "code",
   "execution_count": 3,
   "metadata": {},
   "outputs": [],
   "source": [
    "train = pd.read_pickle('train.pkl')"
   ]
  },
  {
   "cell_type": "code",
   "execution_count": 4,
   "metadata": {},
   "outputs": [],
   "source": [
    "bots = train.loc[train['bot']==True, 'user'].unique().tolist()"
   ]
  },
  {
   "cell_type": "code",
   "execution_count": 5,
   "metadata": {},
   "outputs": [
    {
     "name": "stdout",
     "output_type": "stream",
     "text": [
      "Initiazied filter of size 186\n"
     ]
    }
   ],
   "source": [
    "bloom_filter = BloomFilter(n_elements=len(bots), fp_prob=0.1)"
   ]
  },
  {
   "cell_type": "code",
   "execution_count": 6,
   "metadata": {},
   "outputs": [],
   "source": [
    "for bot in bots:\n",
    "    bloom_filter.insert(bot)"
   ]
  },
  {
   "cell_type": "code",
   "execution_count": 12,
   "metadata": {},
   "outputs": [],
   "source": [
    "url = 'https://stream.wikimedia.org/v2/stream/recentchange'\n",
    "wiki = 'enwiki' #Client side filter\n",
    "counter = 0\n",
    "changes = []\n",
    "maxEvents =  1000 # print n events and stop\n",
    "for event in EventSource(url):\n",
    "    if event.event == 'message':\n",
    "        try:\n",
    "            change = json.loads(event.data)\n",
    "        except ValueError:\n",
    "            continue\n",
    "        if change['wiki'] == wiki:\n",
    "            counter += 1\n",
    "\n",
    "            bot_bloom = bloom_filter.check(change['user'])\n",
    "            change['bot_bloom'] = bot_bloom\n",
    "            changes.append(change)\n",
    "\n",
    "            if counter > maxEvents:\n",
    "                break"
   ]
  },
  {
   "cell_type": "code",
   "execution_count": null,
   "metadata": {},
   "outputs": [],
   "source": [
    "test = pd.json_normalize(changes)\n",
    "test"
   ]
  },
  {
   "cell_type": "code",
   "execution_count": 18,
   "metadata": {},
   "outputs": [
    {
     "data": {
      "text/html": [
       "<div>\n",
       "<style scoped>\n",
       "    .dataframe tbody tr th:only-of-type {\n",
       "        vertical-align: middle;\n",
       "    }\n",
       "\n",
       "    .dataframe tbody tr th {\n",
       "        vertical-align: top;\n",
       "    }\n",
       "\n",
       "    .dataframe thead th {\n",
       "        text-align: right;\n",
       "    }\n",
       "</style>\n",
       "<table border=\"1\" class=\"dataframe\">\n",
       "  <thead>\n",
       "    <tr style=\"text-align: right;\">\n",
       "      <th></th>\n",
       "      <th>bot</th>\n",
       "      <th>bot_bloom</th>\n",
       "    </tr>\n",
       "  </thead>\n",
       "  <tbody>\n",
       "    <tr>\n",
       "      <th>223</th>\n",
       "      <td>True</td>\n",
       "      <td>False</td>\n",
       "    </tr>\n",
       "  </tbody>\n",
       "</table>\n",
       "</div>"
      ],
      "text/plain": [
       "      bot  bot_bloom\n",
       "223  True      False"
      ]
     },
     "execution_count": 18,
     "metadata": {},
     "output_type": "execute_result"
    }
   ],
   "source": [
    "test.loc[(test['bot']==True) & (test['bot_bloom']==False), ['bot', 'bot_bloom']]"
   ]
  },
  {
   "cell_type": "code",
   "execution_count": 16,
   "metadata": {},
   "outputs": [
    {
     "data": {
      "text/plain": [
       "(0.14985014985014986, 0.000999000999000999)"
      ]
     },
     "execution_count": 16,
     "metadata": {},
     "output_type": "execute_result"
    }
   ],
   "source": [
    "fp_rate = test[(test['bot']==False) & (test['bot_bloom']==True)].shape[0] / test.shape[0]\n",
    "fn_rate = test[(test['bot']==True) & (test['bot_bloom']==False)].shape[0] / test.shape[0]\n",
    "fp_rate, fn_rate"
   ]
  }
 ],
 "metadata": {
  "interpreter": {
   "hash": "6cde1da0c15c0f64f8d3329fa04abd03db6fd20c244f52ca806d237a8de8b911"
  },
  "kernelspec": {
   "display_name": "Python 3.8.12 64-bit ('mmds': pyenv)",
   "name": "python3"
  },
  "language_info": {
   "codemirror_mode": {
    "name": "ipython",
    "version": 3
   },
   "file_extension": ".py",
   "mimetype": "text/x-python",
   "name": "python",
   "nbconvert_exporter": "python",
   "pygments_lexer": "ipython3",
   "version": "3.8.12"
  },
  "orig_nbformat": 4
 },
 "nbformat": 4,
 "nbformat_minor": 2
}
