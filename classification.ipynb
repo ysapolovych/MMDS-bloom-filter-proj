{
 "cells": [
  {
   "cell_type": "code",
   "execution_count": 1,
   "metadata": {},
   "outputs": [
    {
     "ename": "ModuleNotFoundError",
     "evalue": "No module named 'sklearn'",
     "output_type": "error",
     "traceback": [
      "\u001b[0;31m---------------------------------------------------------------------------\u001b[0m",
      "\u001b[0;31mModuleNotFoundError\u001b[0m                       Traceback (most recent call last)",
      "Cell \u001b[0;32mIn [1], line 2\u001b[0m\n\u001b[1;32m      1\u001b[0m \u001b[38;5;28;01mimport\u001b[39;00m \u001b[38;5;21;01mpandas\u001b[39;00m \u001b[38;5;28;01mas\u001b[39;00m \u001b[38;5;21;01mpd\u001b[39;00m\n\u001b[0;32m----> 2\u001b[0m \u001b[38;5;28;01mfrom\u001b[39;00m \u001b[38;5;21;01msklearn\u001b[39;00m\u001b[38;5;21;01m.\u001b[39;00m\u001b[38;5;21;01mfeature_extraction\u001b[39;00m\u001b[38;5;21;01m.\u001b[39;00m\u001b[38;5;21;01mtext\u001b[39;00m \u001b[38;5;28;01mimport\u001b[39;00m TfidfVectorizer\n",
      "\u001b[0;31mModuleNotFoundError\u001b[0m: No module named 'sklearn'"
     ]
    }
   ],
   "source": [
    "import pandas as pd\n",
    "import numpy as np\n",
    "from sklearn.feature_extraction.text import TfidfVectorizer"
   ]
  },
  {
   "cell_type": "code",
   "execution_count": null,
   "metadata": {},
   "outputs": [
    {
     "data": {
      "text/html": [
       "<div>\n",
       "<style scoped>\n",
       "    .dataframe tbody tr th:only-of-type {\n",
       "        vertical-align: middle;\n",
       "    }\n",
       "\n",
       "    .dataframe tbody tr th {\n",
       "        vertical-align: top;\n",
       "    }\n",
       "\n",
       "    .dataframe thead th {\n",
       "        text-align: right;\n",
       "    }\n",
       "</style>\n",
       "<table border=\"1\" class=\"dataframe\">\n",
       "  <thead>\n",
       "    <tr style=\"text-align: right;\">\n",
       "      <th></th>\n",
       "      <th>$schema</th>\n",
       "      <th>id</th>\n",
       "      <th>type</th>\n",
       "      <th>namespace</th>\n",
       "      <th>title</th>\n",
       "      <th>comment</th>\n",
       "      <th>timestamp</th>\n",
       "      <th>user</th>\n",
       "      <th>bot</th>\n",
       "      <th>minor</th>\n",
       "      <th>...</th>\n",
       "      <th>log_params.details</th>\n",
       "      <th>log_params.oldgroups</th>\n",
       "      <th>log_params.newgroups</th>\n",
       "      <th>log_params.oldmetadata</th>\n",
       "      <th>log_params.newmetadata</th>\n",
       "      <th>log_params.type</th>\n",
       "      <th>log_params.ids</th>\n",
       "      <th>log_params.ofield</th>\n",
       "      <th>log_params.nfield</th>\n",
       "      <th>log_params.restrictions.pages</th>\n",
       "    </tr>\n",
       "  </thead>\n",
       "  <tbody>\n",
       "    <tr>\n",
       "      <th>0</th>\n",
       "      <td>/mediawiki/recentchange/1.0.0</td>\n",
       "      <td>1.576099e+09</td>\n",
       "      <td>edit</td>\n",
       "      <td>0</td>\n",
       "      <td>List of educational institutions in Multan</td>\n",
       "      <td>/* Universities */</td>\n",
       "      <td>1670092463</td>\n",
       "      <td>116.240.127.97</td>\n",
       "      <td>False</td>\n",
       "      <td>False</td>\n",
       "      <td>...</td>\n",
       "      <td>NaN</td>\n",
       "      <td>NaN</td>\n",
       "      <td>NaN</td>\n",
       "      <td>NaN</td>\n",
       "      <td>NaN</td>\n",
       "      <td>NaN</td>\n",
       "      <td>NaN</td>\n",
       "      <td>NaN</td>\n",
       "      <td>NaN</td>\n",
       "      <td>NaN</td>\n",
       "    </tr>\n",
       "    <tr>\n",
       "      <th>1</th>\n",
       "      <td>/mediawiki/recentchange/1.0.0</td>\n",
       "      <td>1.576099e+09</td>\n",
       "      <td>edit</td>\n",
       "      <td>1</td>\n",
       "      <td>Talk:List of awards and honors received by Ron...</td>\n",
       "      <td>wikiprojects</td>\n",
       "      <td>1670092463</td>\n",
       "      <td>Wow</td>\n",
       "      <td>False</td>\n",
       "      <td>False</td>\n",
       "      <td>...</td>\n",
       "      <td>NaN</td>\n",
       "      <td>NaN</td>\n",
       "      <td>NaN</td>\n",
       "      <td>NaN</td>\n",
       "      <td>NaN</td>\n",
       "      <td>NaN</td>\n",
       "      <td>NaN</td>\n",
       "      <td>NaN</td>\n",
       "      <td>NaN</td>\n",
       "      <td>NaN</td>\n",
       "    </tr>\n",
       "    <tr>\n",
       "      <th>2</th>\n",
       "      <td>/mediawiki/recentchange/1.0.0</td>\n",
       "      <td>1.576099e+09</td>\n",
       "      <td>edit</td>\n",
       "      <td>0</td>\n",
       "      <td>Cournot competition</td>\n",
       "      <td>/* Example 1. */</td>\n",
       "      <td>1670092464</td>\n",
       "      <td>Rowing007</td>\n",
       "      <td>False</td>\n",
       "      <td>False</td>\n",
       "      <td>...</td>\n",
       "      <td>NaN</td>\n",
       "      <td>NaN</td>\n",
       "      <td>NaN</td>\n",
       "      <td>NaN</td>\n",
       "      <td>NaN</td>\n",
       "      <td>NaN</td>\n",
       "      <td>NaN</td>\n",
       "      <td>NaN</td>\n",
       "      <td>NaN</td>\n",
       "      <td>NaN</td>\n",
       "    </tr>\n",
       "    <tr>\n",
       "      <th>3</th>\n",
       "      <td>/mediawiki/recentchange/1.0.0</td>\n",
       "      <td>1.576099e+09</td>\n",
       "      <td>categorize</td>\n",
       "      <td>14</td>\n",
       "      <td>Category:Low-importance List articles</td>\n",
       "      <td>[[:Talk:List of awards and honors received by ...</td>\n",
       "      <td>1670092463</td>\n",
       "      <td>Wow</td>\n",
       "      <td>False</td>\n",
       "      <td>NaN</td>\n",
       "      <td>...</td>\n",
       "      <td>NaN</td>\n",
       "      <td>NaN</td>\n",
       "      <td>NaN</td>\n",
       "      <td>NaN</td>\n",
       "      <td>NaN</td>\n",
       "      <td>NaN</td>\n",
       "      <td>NaN</td>\n",
       "      <td>NaN</td>\n",
       "      <td>NaN</td>\n",
       "      <td>NaN</td>\n",
       "    </tr>\n",
       "    <tr>\n",
       "      <th>4</th>\n",
       "      <td>/mediawiki/recentchange/1.0.0</td>\n",
       "      <td>1.576099e+09</td>\n",
       "      <td>categorize</td>\n",
       "      <td>14</td>\n",
       "      <td>Category:Unassessed United States articles of ...</td>\n",
       "      <td>[[:Talk:List of awards and honors received by ...</td>\n",
       "      <td>1670092463</td>\n",
       "      <td>Wow</td>\n",
       "      <td>False</td>\n",
       "      <td>NaN</td>\n",
       "      <td>...</td>\n",
       "      <td>NaN</td>\n",
       "      <td>NaN</td>\n",
       "      <td>NaN</td>\n",
       "      <td>NaN</td>\n",
       "      <td>NaN</td>\n",
       "      <td>NaN</td>\n",
       "      <td>NaN</td>\n",
       "      <td>NaN</td>\n",
       "      <td>NaN</td>\n",
       "      <td>NaN</td>\n",
       "    </tr>\n",
       "  </tbody>\n",
       "</table>\n",
       "<p>5 rows × 64 columns</p>\n",
       "</div>"
      ],
      "text/plain": [
       "                         $schema            id        type  namespace  \\\n",
       "0  /mediawiki/recentchange/1.0.0  1.576099e+09        edit          0   \n",
       "1  /mediawiki/recentchange/1.0.0  1.576099e+09        edit          1   \n",
       "2  /mediawiki/recentchange/1.0.0  1.576099e+09        edit          0   \n",
       "3  /mediawiki/recentchange/1.0.0  1.576099e+09  categorize         14   \n",
       "4  /mediawiki/recentchange/1.0.0  1.576099e+09  categorize         14   \n",
       "\n",
       "                                               title  \\\n",
       "0         List of educational institutions in Multan   \n",
       "1  Talk:List of awards and honors received by Ron...   \n",
       "2                                Cournot competition   \n",
       "3              Category:Low-importance List articles   \n",
       "4  Category:Unassessed United States articles of ...   \n",
       "\n",
       "                                             comment   timestamp  \\\n",
       "0                                 /* Universities */  1670092463   \n",
       "1                                       wikiprojects  1670092463   \n",
       "2                                   /* Example 1. */  1670092464   \n",
       "3  [[:Talk:List of awards and honors received by ...  1670092463   \n",
       "4  [[:Talk:List of awards and honors received by ...  1670092463   \n",
       "\n",
       "             user    bot  minor  ... log_params.details log_params.oldgroups  \\\n",
       "0  116.240.127.97  False  False  ...                NaN                  NaN   \n",
       "1             Wow  False  False  ...                NaN                  NaN   \n",
       "2       Rowing007  False  False  ...                NaN                  NaN   \n",
       "3             Wow  False    NaN  ...                NaN                  NaN   \n",
       "4             Wow  False    NaN  ...                NaN                  NaN   \n",
       "\n",
       "  log_params.newgroups log_params.oldmetadata log_params.newmetadata  \\\n",
       "0                  NaN                    NaN                    NaN   \n",
       "1                  NaN                    NaN                    NaN   \n",
       "2                  NaN                    NaN                    NaN   \n",
       "3                  NaN                    NaN                    NaN   \n",
       "4                  NaN                    NaN                    NaN   \n",
       "\n",
       "  log_params.type log_params.ids log_params.ofield log_params.nfield  \\\n",
       "0             NaN            NaN               NaN               NaN   \n",
       "1             NaN            NaN               NaN               NaN   \n",
       "2             NaN            NaN               NaN               NaN   \n",
       "3             NaN            NaN               NaN               NaN   \n",
       "4             NaN            NaN               NaN               NaN   \n",
       "\n",
       "  log_params.restrictions.pages  \n",
       "0                           NaN  \n",
       "1                           NaN  \n",
       "2                           NaN  \n",
       "3                           NaN  \n",
       "4                           NaN  \n",
       "\n",
       "[5 rows x 64 columns]"
      ]
     },
     "execution_count": 2,
     "metadata": {},
     "output_type": "execute_result"
    }
   ],
   "source": [
    "data = pd.read_pickle('../data/train.pkl')\n",
    "data.head()"
   ]
  },
  {
   "cell_type": "markdown",
   "metadata": {},
   "source": [
    "Possible features for bot classification:\n",
    "- 'bot' in username\n",
    "- type of change (one-hot encoded)\n",
    "- whether change is minor\n",
    "- time between edits\n",
    "- length of commentary\n",
    "- content of commentary (tf-idf or Bow)\n",
    "- length of revision ('length.new'-'length.old')\n",
    "- Number of requests per minute"
   ]
  },
  {
   "cell_type": "code",
   "execution_count": 4,
   "metadata": {},
   "outputs": [],
   "source": [
    "data['bot'] = data['bot'].astype(int)"
   ]
  },
  {
   "cell_type": "code",
   "execution_count": 8,
   "metadata": {},
   "outputs": [],
   "source": [
    "data['bot_in_username'] = data['user'].str.contains('bot', case=False).astype(int)"
   ]
  },
  {
   "cell_type": "code",
   "execution_count": null,
   "metadata": {},
   "outputs": [],
   "source": [
    "data['minor'] = data['minor'].astype(int)"
   ]
  },
  {
   "cell_type": "code",
   "execution_count": null,
   "metadata": {},
   "outputs": [],
   "source": [
    "data['comment_len'] = data['comment'].str.len()"
   ]
  },
  {
   "cell_type": "code",
   "execution_count": null,
   "metadata": {},
   "outputs": [],
   "source": [
    "data['revision_len'] = data['length.new'] - data['length.old']"
   ]
  },
  {
   "cell_type": "code",
   "execution_count": 6,
   "metadata": {},
   "outputs": [],
   "source": [
    "#one-hot encode type\n",
    "data = pd.concat([data, data['type'].str.get_dummies()], axis=1)"
   ]
  },
  {
   "cell_type": "code",
   "execution_count": 9,
   "metadata": {},
   "outputs": [],
   "source": [
    "data['datetime'] = pd.to_datetime(data['timestamp'], unit='s')"
   ]
  },
  {
   "cell_type": "code",
   "execution_count": 16,
   "metadata": {},
   "outputs": [],
   "source": [
    "# avg changes by user per minute\n",
    "changes_per_min = data.groupby(['user', pd.Grouper(key='datetime', freq='min')]).size().reset_index()\\\n",
    "    .rename(columns={0:'changes_per_min', 'datetime': 'minute'})\n",
    "avg_changes_per_min = changes_per_min.groupby('user').agg(avg_changes_per_min=('changes_per_min', 'mean'))\n",
    "data['minute'] = data['datetime'].dt.round(freq='min')\n",
    "data = pd.merge(data, changes_per_min, how='left', on=['user', 'minute'])"
   ]
  },
  {
   "cell_type": "markdown",
   "metadata": {},
   "source": [
    "## Train/test split"
   ]
  },
  {
   "cell_type": "code",
   "execution_count": null,
   "metadata": {},
   "outputs": [],
   "source": [
    "all_users = data['user'].unique().tolist()\n",
    "train_size = int(len(all_users) * 0.7)\n",
    "train_users = np.random.choice(all_users, train_size)\n",
    "train = data[data['user'].isin(train_users)]\n",
    "test = data[~data['user'].isin(train_users)]"
   ]
  },
  {
   "cell_type": "markdown",
   "metadata": {},
   "source": [
    "## TFIDF"
   ]
  },
  {
   "cell_type": "code",
   "execution_count": null,
   "metadata": {},
   "outputs": [],
   "source": [
    "tfidf = TfIdfVeectorizer()\n",
    "tfidf.fit(train['comment'])\n",
    "train['comment_tfidf'] = tfidf.transform(train['comment'])\n",
    "test['comment_tfidf'] = tfidf.transform(test['comment'])"
   ]
  },
  {
   "cell_type": "code",
   "execution_count": null,
   "metadata": {},
   "outputs": [],
   "source": [
    "indep_vars = ['bot_in_username', 'minor', 'comment_len', 'revision_len', 'changes_per_min', 'comment_tfidf']"
   ]
  },
  {
   "cell_type": "code",
   "execution_count": null,
   "metadata": {},
   "outputs": [],
   "source": [
    "X_train = train[indep_vars]\n",
    "Y_train = train['bot']\n",
    "X_test = test[indep_vars]\n",
    "Y_test = test['bot']"
   ]
  }
 ],
 "metadata": {
  "interpreter": {
   "hash": "6cde1da0c15c0f64f8d3329fa04abd03db6fd20c244f52ca806d237a8de8b911"
  },
  "kernelspec": {
   "display_name": "Python 3.8.12 64-bit ('mmds': pyenv)",
   "name": "python3"
  },
  "language_info": {
   "codemirror_mode": {
    "name": "ipython",
    "version": 3
   },
   "file_extension": ".py",
   "mimetype": "text/x-python",
   "name": "python",
   "nbconvert_exporter": "python",
   "pygments_lexer": "ipython3",
   "version": "3.8.12"
  },
  "orig_nbformat": 4
 },
 "nbformat": 4,
 "nbformat_minor": 2
}
