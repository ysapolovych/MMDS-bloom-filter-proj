{
 "cells": [
  {
   "cell_type": "code",
   "execution_count": 23,
   "metadata": {},
   "outputs": [],
   "source": [
    "import pandas as pd\n",
    "import json\n",
    "from sseclient import SSEClient as EventSource\n",
    "from bloom_filter import BloomFilter\n",
    "import time"
   ]
  },
  {
   "cell_type": "markdown",
   "metadata": {},
   "source": [
    "## Collect data in stream"
   ]
  },
  {
   "cell_type": "code",
   "execution_count": 2,
   "metadata": {},
   "outputs": [],
   "source": [
    "url = 'https://stream.wikimedia.org/v2/stream/recentchange'\n",
    "wiki = 'enwiki' #Client side filter\n",
    "counter = 0\n",
    "changes = []\n",
    "\n",
    "start = time.time()\n",
    "duration = 28800\n",
    "\n",
    "for event in EventSource(url):\n",
    "    if event.event == 'message':\n",
    "        try:\n",
    "            change = json.loads(event.data)\n",
    "        except ValueError:\n",
    "            continue\n",
    "        if change['wiki'] == wiki:\n",
    "            counter += 1\n",
    "\n",
    "            username_hash = hash(change['user'])\n",
    "            # sample 20% changes\n",
    "            if username_hash % 10 < 2:\n",
    "                changes.append(change)\n",
    "\n",
    "            current_time = time.time()\n",
    "            runtime = current_time - start\n",
    "            if runtime >= duration:\n",
    "                break"
   ]
  },
  {
   "cell_type": "code",
   "execution_count": 28,
   "metadata": {},
   "outputs": [
    {
     "data": {
      "text/plain": [
       "(109410, 72)"
      ]
     },
     "execution_count": 28,
     "metadata": {},
     "output_type": "execute_result"
    }
   ],
   "source": [
    "train = pd.json_normalize(changes)\n",
    "train.to_pickle('data/train.pkl')\n",
    "train.shape"
   ]
  },
  {
   "cell_type": "code",
   "execution_count": 27,
   "metadata": {},
   "outputs": [],
   "source": [
    "train = pd.read_pickle('data/train.pkl')"
   ]
  },
  {
   "cell_type": "markdown",
   "metadata": {},
   "source": [
    "## Train bloom filter"
   ]
  },
  {
   "cell_type": "code",
   "execution_count": 29,
   "metadata": {},
   "outputs": [],
   "source": [
    "bots = train.loc[train['bot']==True, 'comment'].unique().tolist()"
   ]
  },
  {
   "cell_type": "code",
   "execution_count": 30,
   "metadata": {},
   "outputs": [
    {
     "name": "stdout",
     "output_type": "stream",
     "text": [
      "Initiazied filter of size 58425\n"
     ]
    }
   ],
   "source": [
    "bloom_filter = BloomFilter(n_elements=len(bots), fp_prob=0.1)"
   ]
  },
  {
   "cell_type": "code",
   "execution_count": 31,
   "metadata": {},
   "outputs": [],
   "source": [
    "for bot in bots:\n",
    "    bloom_filter.insert(bot)"
   ]
  },
  {
   "cell_type": "markdown",
   "metadata": {},
   "source": [
    "## Test bloom filter"
   ]
  },
  {
   "cell_type": "code",
   "execution_count": 32,
   "metadata": {},
   "outputs": [
    {
     "name": "stdout",
     "output_type": "stream",
     "text": [
      "\n"
     ]
    }
   ],
   "source": [
    "url = 'https://stream.wikimedia.org/v2/stream/recentchange'\n",
    "wiki = 'enwiki' #Client side filter\n",
    "counter = 0\n",
    "changes = []\n",
    "maxEvents =  5000 # get n events and stop\n",
    "for event in EventSource(url):\n",
    "    if event.event == 'message':\n",
    "        try:\n",
    "            change = json.loads(event.data)\n",
    "        except ValueError:\n",
    "            continue\n",
    "        if change['wiki'] == wiki:\n",
    "            counter += 1\n",
    "\n",
    "            bot_bloom = bloom_filter.check(change['user'])\n",
    "            change['bot_bloom'] = bot_bloom\n",
    "            changes.append(change)\n",
    "\n",
    "            if counter > maxEvents:\n",
    "                break"
   ]
  },
  {
   "cell_type": "code",
   "execution_count": 33,
   "metadata": {},
   "outputs": [],
   "source": [
    "test = pd.json_normalize(changes)\n",
    "test.to_pickle('data/test_.pkl')"
   ]
  },
  {
   "cell_type": "code",
   "execution_count": 20,
   "metadata": {},
   "outputs": [],
   "source": [
    "test = pd.read_pickle('data/test_.pkl')"
   ]
  },
  {
   "cell_type": "code",
   "execution_count": 34,
   "metadata": {},
   "outputs": [
    {
     "name": "stdout",
     "output_type": "stream",
     "text": [
      "True bots: 737\n",
      "Bloom filtered bots: 263\n",
      "True positives: 18\n"
     ]
    }
   ],
   "source": [
    "bot_count = test[(test['bot']==True)].shape[0]\n",
    "bloom_bot_count = test[(test['bot_bloom']==True)].shape[0]\n",
    "tp_count = test[(test['bot']==True) & (test['bot_bloom']==True)].shape[0]\n",
    "print(f'True bots: {bot_count}\\nBloom filtered bots: {bloom_bot_count}\\nTrue positives: {tp_count}')"
   ]
  },
  {
   "cell_type": "code",
   "execution_count": 36,
   "metadata": {},
   "outputs": [
    {
     "name": "stdout",
     "output_type": "stream",
     "text": [
      "Accuracy: 0.8072385522895421\n",
      "FP rate: 0.04899020195960808\n",
      "\n"
     ]
    }
   ],
   "source": [
    "accuracy = test[test['bot'] == test['bot_bloom']].shape[0] / test.shape[0]\n",
    "fp_rate = test[(test['bot']==False) & (test['bot_bloom']==True)].shape[0] / test.shape[0]\n",
    "print(f'Accuracy: {accuracy}\\nFP rate: {fp_rate}\\n')"
   ]
  }
 ],
 "metadata": {
  "interpreter": {
   "hash": "532a00e83eb09992d60cb3e14208c4a98dd5d7f66dbd94fc807ce05e557d84fd"
  },
  "kernelspec": {
   "display_name": "Python 3.8.12 64-bit ('mmd': pyenv)",
   "name": "python3"
  },
  "language_info": {
   "codemirror_mode": {
    "name": "ipython",
    "version": 3
   },
   "file_extension": ".py",
   "mimetype": "text/x-python",
   "name": "python",
   "nbconvert_exporter": "python",
   "pygments_lexer": "ipython3",
   "version": "3.8.12"
  },
  "orig_nbformat": 4
 },
 "nbformat": 4,
 "nbformat_minor": 2
}
